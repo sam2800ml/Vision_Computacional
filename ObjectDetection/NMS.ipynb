{
  "nbformat": 4,
  "nbformat_minor": 0,
  "metadata": {
    "colab": {
      "provenance": []
    },
    "kernelspec": {
      "name": "python3",
      "display_name": "Python 3"
    },
    "language_info": {
      "name": "python"
    }
  },
  "cells": [
    {
      "cell_type": "code",
      "execution_count": null,
      "metadata": {
        "id": "Prg5VFsYIpdB"
      },
      "outputs": [],
      "source": [
        "import torch"
      ]
    },
    {
      "cell_type": "code",
      "source": [
        "def intersection_over_union(boxes_pred,boxes_label):\n",
        "  # El resultado que se obtiene es igual a (N,4), donde el valor de n es la cantidad de bounding boxes que se tiene\n",
        "  box1_x1 = boxes_pred[..., 0:1]\n",
        "  box1_y1 = boxes_pred[..., 1:2]\n",
        "  box1_x2 = boxes_pred[..., 2,3]\n",
        "  box1_y2 = boxes_pred[..., 3,4]\n",
        "  box2_x1 = boxes_label[..., 0:1]\n",
        "  box2_y1 = boxes_label[..., 1:2]\n",
        "  box2_x2 = boxes_label[..., 2,3]\n",
        "  box2_y2 = boxes_label[..., 3,4]\n",
        "\n",
        "  x1 = torch.max(box1_x1, box2_x1)\n",
        "  y1 = torch.max(box1_y1, box2_y1)\n",
        "  x2 = torch.min(box1_x2, box2_x2)\n",
        "  y2 = torch.min(box1_y2, box2_y2)\n",
        "\n",
        "  intersection = (x2-x1).clamp(0) * (y2 - y1).clamp(0)\n",
        "  box1_area = abs((box1_x2 - box1_x1) * (box1_y1 - box1_y2))\n",
        "  box2_area = abs((box2_x2 - box2_x1) * (box2_y1 - box2_y2))\n",
        "\n",
        "  return intersection / (box1_area + box2_area - intersection + 1e-6)"
      ],
      "metadata": {
        "id": "dW7_kqXELxBm"
      },
      "execution_count": null,
      "outputs": []
    },
    {
      "cell_type": "code",
      "source": [
        "def nms(bbox_pred, iou_threshold,prob_threshold, box_format=\"corners\"):\n",
        "  # Lo que recibimos de bbox_pred es [[1,0.9,x1,y1,x2,y2],[1,07,x1,y1,x2,y2]] donde primeros tenemos la clase, despues puntaje, y por ultimo dimensiones\n",
        "  assert type(bboxes) == list\n",
        "  bboxes = [box for box in bboxes if box[1] > prob_threshold] # Se va a obtener nada mas los que sean mayor al primer threshold\n",
        "  bboxes = sorted(bboxes, key = lambda x:x[1], reverse=True) # Organized the order\n",
        "  bboxes_after_nms = []\n",
        "\n",
        "  while bboxes:\n",
        "    chosen_box = bboxes.pop(0) # the best bbox\n",
        "    bboxes =\n",
        "     [box\n",
        "      for box in bboxes\n",
        "      if box[0] != chosen_box[0]\n",
        "      or intersection_over_union(\n",
        "          torch.tensor(chosen_box[2:]),\n",
        "          torch.tensor(box[2:]),\n",
        "          ) < iou_threshold]\n",
        "      bboxes_after_nms.append(chosen_box)\n",
        "\n",
        "\n"
      ],
      "metadata": {
        "id": "ntlVHzq4IuYB"
      },
      "execution_count": null,
      "outputs": []
    }
  ]
}